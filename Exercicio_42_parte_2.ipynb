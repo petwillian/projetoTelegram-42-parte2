{
  "nbformat": 4,
  "nbformat_minor": 0,
  "metadata": {
    "colab": {
      "provenance": []
    },
    "kernelspec": {
      "name": "python3",
      "display_name": "Python 3"
    }
  },
  "cells": [
    {
      "cell_type": "markdown",
      "metadata": {
        "id": "KJqp9AANOCtf"
      },
      "source": [
        "<img src=\"https://raw.githubusercontent.com/andre-marcos-perez/ebac-course-utils/main/media/logo/newebac_logo_black_half.png\" alt=\"ebac-logo\">\n",
        "\n",
        "---\n",
        "\n",
        "# **Módulo** | Pipeline de Dados do Telegram II\n",
        "Caderno de **Exercícios**<br>\n",
        "Professor [André Perez](https://www.linkedin.com/in/andremarcosperez/)\n",
        "\n",
        "---"
      ]
    },
    {
      "cell_type": "markdown",
      "metadata": {
        "id": "d9jDtUbDOE1-"
      },
      "source": [
        "# **Tópicos**\n",
        "\n",
        "<ol type=\"1\">\n",
        "  <li>Ingestão;</li>\n",
        "  <li>ETL;</li>\n",
        "  <li>Apresentação;</li>\n",
        "  <li>Storytelling.</li>\n",
        "</ol>"
      ]
    },
    {
      "cell_type": "markdown",
      "metadata": {
        "id": "SmoHgt-lwkpD"
      },
      "source": [
        "---"
      ]
    },
    {
      "cell_type": "markdown",
      "metadata": {
        "id": "GABI6OW8OfQ2"
      },
      "source": [
        "# **Exercícios**"
      ]
    },
    {
      "cell_type": "markdown",
      "metadata": {
        "id": "ne7Ay0HKaGSv"
      },
      "source": [
        "## 1\\. Ingestão"
      ]
    },
    {
      "cell_type": "markdown",
      "metadata": {
        "id": "OQxOVktrzG9I"
      },
      "source": [
        "Replique as atividades da aula 1."
      ]
    },
    {
      "cell_type": "code",
      "source": [
        "from getpass import getpass\n",
        "\n",
        "token = getpass()"
      ],
      "metadata": {
        "id": "tz6y8ROkV92M",
        "colab": {
          "base_uri": "https://localhost:8080/"
        },
        "outputId": "44cf4fc6-9284-4866-e22c-d3aa39ba286c"
      },
      "execution_count": 21,
      "outputs": [
        {
          "name": "stdout",
          "output_type": "stream",
          "text": [
            "··········\n"
          ]
        }
      ]
    },
    {
      "cell_type": "code",
      "source": [
        "import json\n",
        "\n",
        "base_url = f'https://api.telegram.org/bot{token}'"
      ],
      "metadata": {
        "id": "h9eEJCfOzXqK"
      },
      "execution_count": 2,
      "outputs": []
    },
    {
      "cell_type": "markdown",
      "source": [
        "- **getMe**"
      ],
      "metadata": {
        "id": "2w1pPWxIzsKj"
      }
    },
    {
      "cell_type": "code",
      "source": [
        "import requests\n",
        "\n",
        "response = requests.get(url=f'{base_url}/getMe')\n",
        "\n",
        "print(json.dumps(json.loads(response.text), indent=2))"
      ],
      "metadata": {
        "id": "7r-GzIQCzXZT"
      },
      "execution_count": null,
      "outputs": []
    },
    {
      "cell_type": "markdown",
      "source": [
        " - **getUpdates**"
      ],
      "metadata": {
        "id": "59dMgmVQz1UC"
      }
    },
    {
      "cell_type": "code",
      "source": [
        "response = requests.get(url=f'{base_url}/getUpdates')\n",
        "\n",
        "print(json.dumps(json.loads(response.text), indent=2))"
      ],
      "metadata": {
        "id": "beVy3RAUzwnq"
      },
      "execution_count": null,
      "outputs": []
    },
    {
      "cell_type": "markdown",
      "source": [
        "1.1. Crie um `bucket` no `AWS S3` para o armazenamento de dados crus, não se esqueça de adicionar o sufixo `-raw`."
      ],
      "metadata": {
        "id": "C4_2Q6VxE7bZ"
      }
    },
    {
      "cell_type": "code",
      "source": [
        "!wget -O 'buckets.jpg' 'https://raw.githubusercontent.com/petwillian/projetoTelegram-42-parte2/refs/heads/main/projeto-telegram-buckets.jpg'"
      ],
      "metadata": {
        "id": "BMjN8aO18q3a"
      },
      "execution_count": null,
      "outputs": []
    },
    {
      "cell_type": "code",
      "source": [
        "import cv2\n",
        "from google.colab.patches import cv2_imshow\n",
        "\n",
        "imagem = cv2.imread('buckets.jpg')\n",
        "cv2_imshow(imagem)"
      ],
      "metadata": {
        "id": "6DPjqOAI8rQ6"
      },
      "execution_count": null,
      "outputs": []
    },
    {
      "cell_type": "markdown",
      "source": [
        "1.2. Crie uma função no `AWS Lambda` para recebimento das mensagens e armazenamento no formato JSON no `bucket` de dados crus. Não se esqueça de configurar as variáveis de ambiente e de adicionar as permissão de interação com `AWS S3` no `AWS IAM`."
      ],
      "metadata": {
        "id": "OFamvPQdFJ9V"
      }
    },
    {
      "cell_type": "code",
      "source": [
        "!wget -O 'Variáveis-de-ambiente.jpg' 'https://raw.githubusercontent.com/petwillian/projetoTelegram-42-parte2/refs/heads/main/variaveis-de-ambiente.jpg'"
      ],
      "metadata": {
        "id": "uR6Wi-we8x0q"
      },
      "execution_count": null,
      "outputs": []
    },
    {
      "cell_type": "code",
      "source": [
        "import cv2\n",
        "from google.colab.patches import cv2_imshow\n",
        "\n",
        "imagem = cv2.imread('Variáveis-de-ambiente.jpg')\n",
        "cv2_imshow(imagem)"
      ],
      "metadata": {
        "id": "32IiGgPe8yQa"
      },
      "execution_count": null,
      "outputs": []
    },
    {
      "cell_type": "code",
      "source": [
        "!wget -O 'Permissôes.jpg' 'https://raw.githubusercontent.com/petwillian/projetoTelegram-42-parte2/refs/heads/main/Permissoes.jpg'"
      ],
      "metadata": {
        "id": "8NbH36-i803y"
      },
      "execution_count": null,
      "outputs": []
    },
    {
      "cell_type": "code",
      "source": [
        "import cv2\n",
        "from google.colab.patches import cv2_imshow\n",
        "\n",
        "imagem = cv2.imread('Permissôes.jpg')\n",
        "cv2_imshow(imagem)"
      ],
      "metadata": {
        "id": "shBMToZS80rK"
      },
      "execution_count": null,
      "outputs": []
    },
    {
      "cell_type": "markdown",
      "source": [
        "```python\n",
        "import os\n",
        "import json\n",
        "import logging\n",
        "from datetime import datetime, timezone, timedelta\n",
        "\n",
        "import boto3\n",
        "\n",
        "\n",
        "def lambda_handler(event: dict, context: dict) -> dict:\n",
        "  '''\n",
        "  Recebe uma mensagens do Telegram via AWS API Gateway, verifica no\n",
        "  seu conteúdo se foi produzida em um determinado grupo e a escreve,\n",
        "  em seu formato original JSON, em um bucket do AWS S3.\n",
        "  '''\n",
        "\n",
        "  # vars de ambiente\n",
        "  BUCKET = os.environ['AWS_S3_BUCKET']\n",
        "  TELEGRAM_CHAT_ID = int(os.environ['TELEGRAM_CHAT_ID'])\n",
        "\n",
        "  # vars lógicas\n",
        "  tzinfo = timezone(offset=timedelta(hours=-3))\n",
        "  date = datetime.now(tzinfo).strftime('%Y-%m-%d')\n",
        "  timestamp = datetime.now(tzinfo).strftime('%Y%m%d%H%M%S%f')\n",
        "\n",
        "  filename = f'{timestamp}.json'\n",
        "\n",
        "  # código principal\n",
        "\n",
        "  client = boto3.client('s3')\n",
        "  \n",
        "  try:\n",
        "\n",
        "    #message = event\n",
        "    message = json.loads(event[\"body\"])\n",
        "    chat_id = message[\"message\"][\"chat\"][\"id\"]\n",
        "\n",
        "    if chat_id == TELEGRAM_CHAT_ID:\n",
        "\n",
        "      with open(f\"/tmp/{filename}\", mode='w', encoding='utf8') as fp:\n",
        "        json.dump(message, fp)\n",
        "\n",
        "      client.upload_file(f'/tmp/{filename}', BUCKET, f'telegram/context_date={date}/{filename}')\n",
        "\n",
        "  except Exception as exc:\n",
        "      logging.error(msg=exc)\n",
        "      return dict(statusCode=\"500\")\n",
        "\n",
        "  else:\n",
        "      return dict(statusCode=\"200\")\n",
        "````"
      ],
      "metadata": {
        "id": "wWbHhb7hwcLX"
      }
    },
    {
      "cell_type": "markdown",
      "source": [
        "> **Nota**: Para testar a função com evento do próprio `AWS Lambda`, substitua o código `message = json.loads(event[\"body\"])` por `message = event`. Lembre-se que o primeiro só faz sentido na integração com o `AWS API Gateway`."
      ],
      "metadata": {
        "id": "E2E14I2YFkUW"
      }
    },
    {
      "cell_type": "code",
      "source": [
        "!wget -O 'AWS-Lambda.jpg' 'https://raw.githubusercontent.com/petwillian/projetoTelegram-42-parte2/refs/heads/main/AWS-Lambda.jpg'"
      ],
      "metadata": {
        "id": "RLMe1UCD8ixR"
      },
      "execution_count": null,
      "outputs": []
    },
    {
      "cell_type": "code",
      "source": [
        "import cv2\n",
        "from google.colab.patches import cv2_imshow\n",
        "\n",
        "imagem = cv2.imread('AWS-Lambda.jpg')\n",
        "cv2_imshow(imagem)"
      ],
      "metadata": {
        "id": "0hjh1HmA8kXS"
      },
      "execution_count": null,
      "outputs": []
    },
    {
      "cell_type": "markdown",
      "source": [
        "1.3. Crie uma API no `AWS API Gateway` a conecte a função do `AWS Lambda`, conforme apresentado na aula."
      ],
      "metadata": {
        "id": "JoZx3o2QGIx-"
      }
    },
    {
      "cell_type": "markdown",
      "source": [
        "> **Nota**: não disponibilize o endereço da API gerada."
      ],
      "metadata": {
        "id": "VRUI7edtGrot"
      }
    },
    {
      "cell_type": "code",
      "source": [
        "!wget -O 'AWS-API-Gateway' 'https://raw.githubusercontent.com/petwillian/projetoTelegram-42-parte2/refs/heads/main/AWS-API-Gateway.jpg'"
      ],
      "metadata": {
        "id": "388tF1kFFoNw"
      },
      "execution_count": null,
      "outputs": []
    },
    {
      "cell_type": "code",
      "source": [
        "import cv2\n",
        "from google.colab.patches import cv2_imshow\n",
        "\n",
        "imagem = cv2.imread('AWS-API-Gateway')\n",
        "cv2_imshow(imagem)"
      ],
      "metadata": {
        "id": "GjaWsza1Fnpb"
      },
      "execution_count": null,
      "outputs": []
    },
    {
      "cell_type": "code",
      "source": [
        "aws_api_gateway_url = getpass()"
      ],
      "metadata": {
        "colab": {
          "base_uri": "https://localhost:8080/"
        },
        "id": "pZZzJsdnDjax",
        "outputId": "e9ff5502-367d-4ae7-df73-f356c398c8e6"
      },
      "execution_count": 16,
      "outputs": [
        {
          "name": "stdout",
          "output_type": "stream",
          "text": [
            "··········\n"
          ]
        }
      ]
    },
    {
      "cell_type": "markdown",
      "source": [
        "1.4. Configura o *webhook* do *bot* através do método `setWebhook` da API de *bots* do **Telegram**. utilize o endereço da API criada no `AWS API Gateway`. Utilize o método `getWebhookInfo` para consultar a integração."
      ],
      "metadata": {
        "id": "2QhB4SmjGVDZ"
      }
    },
    {
      "cell_type": "markdown",
      "source": [
        "> **Nota**: não disponibilize o *token* de acesso ao seu *bot* da API de *bots* do **Telegram**."
      ],
      "metadata": {
        "id": "w6axVNYxG1I0"
      }
    },
    {
      "cell_type": "code",
      "source": [
        "response = requests.get(url=f'{base_url}/setWebhook?url={aws_api_gateway_url}')\n",
        "\n",
        "print(json.dumps(json.loads(response.text), indent=2))"
      ],
      "metadata": {
        "id": "eR8D3QGrECpi"
      },
      "execution_count": null,
      "outputs": []
    },
    {
      "cell_type": "code",
      "source": [
        "response = requests.get(url=f'{base_url}/getWebhookInfo')\n",
        "\n",
        "print(json.dumps(json.loads(response.text), indent=2))"
      ],
      "metadata": {
        "id": "AUWKKbO2ECfB"
      },
      "execution_count": null,
      "outputs": []
    },
    {
      "cell_type": "markdown",
      "metadata": {
        "id": "kQ-wge9yHCC3"
      },
      "source": [
        "## 2\\. ETL"
      ]
    },
    {
      "cell_type": "markdown",
      "metadata": {
        "id": "r1MneksdHCC6"
      },
      "source": [
        "Replique as atividades da aula 2."
      ]
    },
    {
      "cell_type": "markdown",
      "source": [
        "2.1. Crie um `bucket` no `AWS S3` para o armazenamento de dados enriquecidos, não se esqueça de adicionar o sufixo `-enriched`."
      ],
      "metadata": {
        "id": "rCCWZtBCHCC7"
      }
    },
    {
      "cell_type": "code",
      "source": [
        "!wget -O 'bucket-enriched.jpg' 'https://raw.githubusercontent.com/petwillian/projetoTelegram-42-parte2/refs/heads/main/bucket-enriched.jpg'"
      ],
      "metadata": {
        "id": "D1mIPztTqBgA"
      },
      "execution_count": null,
      "outputs": []
    },
    {
      "cell_type": "code",
      "source": [
        "import cv2\n",
        "from google.colab.patches import cv2_imshow\n",
        "\n",
        "imagem = cv2.imread('bucket-enriched.jpg')\n",
        "cv2_imshow(imagem)"
      ],
      "metadata": {
        "id": "etSq2yp_qBY_"
      },
      "execution_count": null,
      "outputs": []
    },
    {
      "cell_type": "markdown",
      "source": [
        "2.2. Cria uma função no `AWS Lambda` para processar as mensagens JSON de uma única partição do dia anterior (D-1), armazenadas no *bucket* de dados crus. Salve o resultado em um único arquivo PARQUET, também particionado por dia. Não se esqueça de configurar as variáveis de ambiente, de adicionar as permissão de interação com `AWS S3` no `AWS IAM`, de configurar o *timeout* e de adicionar a *layer* com o código do pacote Python PyArrow."
      ],
      "metadata": {
        "id": "cEb2SIgjHg5e"
      }
    },
    {
      "cell_type": "markdown",
      "source": [
        "> **Nota**: Para testar a função, substitua o código `date = (datetime.now(tzinfo) - timedelta(days=1)).strftime('%Y-%m-%d')` por `date = (datetime.now(tzinfo) - timedelta(days=0)).strftime('%Y-%m-%d')`, permitindo assim o processamento de mensagens de um mesmo dia."
      ],
      "metadata": {
        "id": "Yf5a_JKkIOdS"
      }
    },
    {
      "cell_type": "code",
      "source": [
        "!wget -O 'Camada-layer.jpg' 'https://raw.githubusercontent.com/petwillian/projetoTelegram-42-parte2/refs/heads/main/Camada-layer.jpg'"
      ],
      "metadata": {
        "id": "GyKRk8HYp8iX"
      },
      "execution_count": null,
      "outputs": []
    },
    {
      "cell_type": "code",
      "source": [
        "import cv2\n",
        "from google.colab.patches import cv2_imshow\n",
        "\n",
        "imagem = cv2.imread('Camada-layer.jpg')\n",
        "cv2_imshow(imagem)"
      ],
      "metadata": {
        "id": "0foax21hp8aN"
      },
      "execution_count": null,
      "outputs": []
    },
    {
      "cell_type": "markdown",
      "source": [
        "```python\n",
        "import os\n",
        "import json\n",
        "import logging\n",
        "from datetime import datetime, timedelta, timezone\n",
        "\n",
        "import boto3\n",
        "import pyarrow as pa\n",
        "import pyarrow.parquet as pq\n",
        "\n",
        "\n",
        "def lambda_handler(event: dict, context: dict) -> bool:\n",
        "\n",
        "  '''\n",
        "  Diariamente é executado para compactar as diversas mensagensm, no formato\n",
        "  JSON, do dia anterior, armazenadas no bucket de dados cru, em um único\n",
        "  arquivo no formato PARQUET, armazenando-o no bucket de dados enriquecidos\n",
        "  '''\n",
        "\n",
        "  # vars de ambiente\n",
        "\n",
        "  RAW_BUCKET = os.environ['AWS_S3_BUCKET']\n",
        "  ENRICHED_BUCKET = os.environ['AWS_S3_ENRICHED']\n",
        "\n",
        "  # vars lógicas\n",
        "\n",
        "  tzinfo = timezone(offset=timedelta(hours=-3))\n",
        "  #date = (datetime.now(tzinfo) - timedelta(days=1)).strftime('%Y-%m-%d')\n",
        "  date = (datetime.now(tzinfo) - timedelta(days=0)).strftime('%Y-%m-%d')\n",
        "  timestamp = datetime.now(tzinfo).strftime('%Y%m%d%H%M%S%f')\n",
        "\n",
        "  # código principal\n",
        "\n",
        "  table = None\n",
        "  client = boto3.client('s3')\n",
        "\n",
        "  try:\n",
        "\n",
        "      response = client.list_objects_v2(Bucket=RAW_BUCKET, Prefix=f'telegram/context_date={date}')\n",
        "\n",
        "      for content in response['Contents']:\n",
        "\n",
        "        key = content['Key']\n",
        "        client.download_file(RAW_BUCKET, key, f\"/tmp/{key.split('/')[-1]}\")\n",
        "\n",
        "        with open(f\"/tmp/{key.split('/')[-1]}\", mode='r', encoding='utf8') as fp:\n",
        "\n",
        "          data = json.load(fp)\n",
        "          data = data[\"message\"]\n",
        "\n",
        "        parsed_data = parse_data(data=data)\n",
        "        iter_table = pa.Table.from_pydict(mapping=parsed_data)\n",
        "\n",
        "        if table:\n",
        "\n",
        "          table = pa.concat_tables([table, iter_table])\n",
        "\n",
        "        else:\n",
        "\n",
        "          table = iter_table\n",
        "          iter_table = None\n",
        "          \n",
        "      pq.write_table(table=table, where=f'/tmp/{timestamp}.parquet')\n",
        "      client.upload_file(f\"/tmp/{timestamp}.parquet\", ENRICHED_BUCKET, f\"telegram/context_date={date}/{timestamp}.parquet\")\n",
        "\n",
        "      return True\n",
        "  \n",
        "  except Exception as exc:\n",
        "      logging.error(msg=exc)\n",
        "      return False\n",
        "\n",
        "def parse_data(data: dict) -> dict:\n",
        "\n",
        "  date = datetime.now().strftime('%Y-%m-%d')\n",
        "  timestamp = datetime.now().strftime('%Y-%m-%d %H:%M:%S')\n",
        "\n",
        "  parsed_data = dict()\n",
        "\n",
        "  for key, value in data.items():\n",
        "\n",
        "      if key == 'from':\n",
        "          for k, v in data[key].items():\n",
        "              if k in ['id', 'is_bot', 'first_name']:\n",
        "                parsed_data[f\"{key if key == 'chat' else 'user'}_{k}\"] = [v]\n",
        "\n",
        "      elif key == 'chat':\n",
        "          for k, v in data[key].items():\n",
        "              if k in ['id', 'type']:\n",
        "                parsed_data[f\"{key if key == 'chat' else 'user'}_{k}\"] = [v]\n",
        "\n",
        "      elif key in ['message_id', 'date', 'text']:\n",
        "          parsed_data[key] = [value]\n",
        "\n",
        "  if not 'text' in parsed_data.keys():\n",
        "    parsed_data['text'] = [None]\n",
        "\n",
        "  return parsed_data      \n",
        "```"
      ],
      "metadata": {
        "id": "o_L46h-CyM4S"
      }
    },
    {
      "cell_type": "markdown",
      "source": [
        "2.3. Crie uma regra no `AWS Event Bridge` para executar a função do `AWS Lambda` todo dia a meia noite no horário de Brasília (GMT-3)."
      ],
      "metadata": {
        "id": "exu8rdDHHT_h"
      }
    },
    {
      "cell_type": "markdown",
      "source": [
        "![lambda-enrich.png](data:image/png;base64,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)"
      ],
      "metadata": {
        "id": "lfxyVU07ydp_"
      }
    },
    {
      "cell_type": "code",
      "source": [
        "!wget -O 'AWS-Event-Bridge.jpg' 'https://raw.githubusercontent.com/petwillian/projetoTelegram-42-parte2/refs/heads/main/AWS-Event-Bridge.jpg'"
      ],
      "metadata": {
        "id": "VXFcrtxOrTKg"
      },
      "execution_count": null,
      "outputs": []
    },
    {
      "cell_type": "code",
      "source": [
        "import cv2\n",
        "from google.colab.patches import cv2_imshow\n",
        "\n",
        "imagem = cv2.imread('AWS-Event-Bridge.jpg')\n",
        "cv2_imshow(imagem)"
      ],
      "metadata": {
        "id": "9YE7UFGLrS9Q"
      },
      "execution_count": null,
      "outputs": []
    },
    {
      "cell_type": "markdown",
      "metadata": {
        "id": "7v7499xfIjrn"
      },
      "source": [
        "## 3\\. Apresentação"
      ]
    },
    {
      "cell_type": "markdown",
      "metadata": {
        "id": "i4CBpJt3Ijrp"
      },
      "source": [
        "Replique as atividades da aula 3."
      ]
    },
    {
      "cell_type": "markdown",
      "source": [
        "3.1. Cria a tabela no `AWS Athena` que aponte para os dados armazenados no bucket enriquecido do `AWS S3`."
      ],
      "metadata": {
        "id": "sN0dvM8tIviK"
      }
    },
    {
      "cell_type": "markdown",
      "source": [
        "```sql\n",
        "CREATE EXTERNAL TABLE `telegram`(\n",
        "  `message_id` bigint,\n",
        "  `user_id` bigint,\n",
        "  `user_is_bot` boolean,\n",
        "  `user_first_name` string,\n",
        "  `chat_id` bigint,\n",
        "  `chat_type` string,\n",
        "  `text` string,\n",
        "  `date` bigint)\n",
        "PARTITIONED BY (\n",
        "  `context_date` date)\n",
        "ROW FORMAT SERDE\n",
        "  'org.apache.hadoop.hive.ql.io.parquet.serde.ParquetHiveSerDe'\n",
        "STORED AS INPUTFORMAT\n",
        "  'org.apache.hadoop.hive.ql.io.parquet.MapredParquetInputFormat'\n",
        "OUTPUTFORMAT\n",
        "  'org.apache.hadoop.hive.ql.io.parquet.MapredParquetOutputFormat'\n",
        "LOCATION\n",
        "  's3://pipegram-datalake-enriched/telegram/'\n",
        "```"
      ],
      "metadata": {
        "id": "l9YXnkrmzOuN"
      }
    },
    {
      "cell_type": "markdown",
      "source": [
        "3.2. Execute o comando `MSCK REPAIR TABLE <nome-tabela>` para carregar as partições."
      ],
      "metadata": {
        "id": "w3Lf4CPsI--8"
      }
    },
    {
      "cell_type": "markdown",
      "source": [
        "```sql\n",
        "MSCK REPAIR TABLE telegram\n",
        "```"
      ],
      "metadata": {
        "id": "aXakJ0vL0nc_"
      }
    },
    {
      "cell_type": "code",
      "source": [
        "!wget -O 'MSCK-REPAIR-TABLE.jpg' 'https://raw.githubusercontent.com/petwillian/projetoTelegram-42-parte2/refs/heads/main/MSCK-REPAIR-TABLE.jpg'"
      ],
      "metadata": {
        "id": "gdlx67KSwCB_"
      },
      "execution_count": null,
      "outputs": []
    },
    {
      "cell_type": "code",
      "source": [
        "import cv2\n",
        "from google.colab.patches import cv2_imshow\n",
        "\n",
        "imagem = cv2.imread('MSCK-REPAIR-TABLE.jpg')\n",
        "cv2_imshow(imagem)"
      ],
      "metadata": {
        "id": "7AJ8cNIUwBt-"
      },
      "execution_count": null,
      "outputs": []
    },
    {
      "cell_type": "markdown",
      "source": [
        ">`Consulta-Telegram.jpg`"
      ],
      "metadata": {
        "id": "Gvp16y04xdGu"
      }
    },
    {
      "cell_type": "code",
      "source": [
        "!wget -O 'Consulta-Telegram.jpg' 'https://raw.githubusercontent.com/petwillian/projetoTelegram-42-parte2/refs/heads/main/Consulta-telegram.jpg'"
      ],
      "metadata": {
        "id": "SOoubZbrxc0O"
      },
      "execution_count": null,
      "outputs": []
    },
    {
      "cell_type": "code",
      "source": [
        "import cv2\n",
        "from google.colab.patches import cv2_imshow\n",
        "\n",
        "imagem = cv2.imread('Consulta-Telegram.jpg')\n",
        "cv2_imshow(imagem)"
      ],
      "metadata": {
        "id": "TKt9dV-CxcrP"
      },
      "execution_count": null,
      "outputs": []
    },
    {
      "cell_type": "markdown",
      "source": [
        "3.3. Execute as consultas SQL para explorar os dados."
      ],
      "metadata": {
        "id": "5o3mNIKiJKqL"
      }
    },
    {
      "cell_type": "markdown",
      "source": [
        ">**Query_1**"
      ],
      "metadata": {
        "id": "Q7usOCG3wcRe"
      }
    },
    {
      "cell_type": "markdown",
      "source": [
        "```sql\n",
        "--Quantidades de mensagens por dia\n",
        "SELECT context_date, COUNT(*) AS messages\n",
        "FROM telegram\n",
        "GROUP BY context_date\n",
        "ORDER BY 1 DESC;\n",
        "```\n"
      ],
      "metadata": {
        "id": "RduTt_3jwNdb"
      }
    },
    {
      "cell_type": "code",
      "source": [
        "!wget -O 'Query_1.jpg' 'https://raw.githubusercontent.com/petwillian/projetoTelegram-42-parte2/refs/heads/main/Query_1.jpg'"
      ],
      "metadata": {
        "id": "5rN4UxN8w9Z3"
      },
      "execution_count": null,
      "outputs": []
    },
    {
      "cell_type": "code",
      "source": [
        "import cv2\n",
        "from google.colab.patches import cv2_imshow\n",
        "\n",
        "imagem = cv2.imread('Query_1.jpg')\n",
        "cv2_imshow(imagem)"
      ],
      "metadata": {
        "id": "cvpSb6f3w9S2"
      },
      "execution_count": null,
      "outputs": []
    },
    {
      "cell_type": "markdown",
      "source": [
        ">**Query_2**"
      ],
      "metadata": {
        "id": "DJ1MyLQSwggG"
      }
    },
    {
      "cell_type": "markdown",
      "source": [
        "```sql\n",
        "--Média do tamanho das mensagens.\n",
        "SELECT\n",
        "  context_date,\n",
        "  CAST(AVG(length(text)) AS INT) AS mean_message_len\n",
        "FROM telegram\n",
        "GROUP BY  context_date\n",
        "ORDER BY 1 DESC;\n",
        "````"
      ],
      "metadata": {
        "id": "6XchPIh3wUY3"
      }
    },
    {
      "cell_type": "code",
      "source": [
        "!wget -O 'Query_2.jpg' 'https://raw.githubusercontent.com/petwillian/projetoTelegram-42-parte2/refs/heads/main/Query_2.jpg'"
      ],
      "metadata": {
        "id": "Zmvepw1iw-Fm"
      },
      "execution_count": null,
      "outputs": []
    },
    {
      "cell_type": "code",
      "source": [
        "import cv2\n",
        "from google.colab.patches import cv2_imshow\n",
        "\n",
        "imagem = cv2.imread('Query_2.jpg')\n",
        "cv2_imshow(imagem)"
      ],
      "metadata": {
        "id": "uCdLkw07w-AH"
      },
      "execution_count": null,
      "outputs": []
    },
    {
      "cell_type": "markdown",
      "source": [
        ">**Query_3**"
      ],
      "metadata": {
        "id": "up5rITVpw1t2"
      }
    },
    {
      "cell_type": "markdown",
      "source": [
        "```sql\n",
        "--Quantas mensagens tiveram erros de digitação?\n",
        "SELECT count(*) AS messages_with_typos\n",
        "FROM telegram\n",
        "WHERE text LIKE '%*%';\n",
        "```"
      ],
      "metadata": {
        "id": "6tYqENqCwtj3"
      }
    },
    {
      "cell_type": "code",
      "source": [
        "!wget -O '/Query_3.jpg' 'https://raw.githubusercontent.com/petwillian/projetoTelegram-42-parte2/refs/heads/main/Query_3.jpg'"
      ],
      "metadata": {
        "id": "ujSV2qOFw-r3"
      },
      "execution_count": null,
      "outputs": []
    },
    {
      "cell_type": "code",
      "source": [
        "import cv2\n",
        "from google.colab.patches import cv2_imshow\n",
        "\n",
        "imagem = cv2.imread('/Query_3.jpg')\n",
        "cv2_imshow(imagem)"
      ],
      "metadata": {
        "id": "mbxF9Mlrw-kO"
      },
      "execution_count": null,
      "outputs": []
    },
    {
      "cell_type": "markdown",
      "source": [
        ">**Query_4**"
      ],
      "metadata": {
        "id": "dNduIp57w0vG"
      }
    },
    {
      "cell_type": "markdown",
      "source": [
        "```sql\n",
        "--Checagem:\n",
        "SELECT user_first_name,\n",
        "       text AS messages_with_typos,\n",
        "       context_date\n",
        "FROM telegram\n",
        "WHERE text LIKE '%*%'\n",
        "ORDER BY 3 DESC;\n",
        "```\n"
      ],
      "metadata": {
        "id": "PaUfPkBM2h0_"
      }
    },
    {
      "cell_type": "code",
      "source": [
        "!wget -O 'Query_4.jpg' 'https://raw.githubusercontent.com/petwillian/projetoTelegram-42-parte2/refs/heads/main/Query_4.jpg'"
      ],
      "metadata": {
        "id": "k6XVdWIdwFre"
      },
      "execution_count": null,
      "outputs": []
    },
    {
      "cell_type": "code",
      "source": [
        "import cv2\n",
        "from google.colab.patches import cv2_imshow\n",
        "\n",
        "imagem = cv2.imread('Query_4.jpg')\n",
        "cv2_imshow(imagem)"
      ],
      "metadata": {
        "id": "UqqRTwF1w_bn"
      },
      "execution_count": null,
      "outputs": []
    },
    {
      "cell_type": "markdown",
      "metadata": {
        "id": "TwA9AmeSInp8"
      },
      "source": [
        "## 4\\. Storytelling"
      ]
    },
    {
      "cell_type": "markdown",
      "metadata": {
        "id": "Xhpcu4TNInp9"
      },
      "source": [
        "Siga as dicas da aula 4 para expor o seu projeto."
      ]
    },
    {
      "cell_type": "markdown",
      "source": [
        "* **Contexto**\n",
        "\n",
        " O objetivo deste projecto foi implementar um pipeline dades para analisar mensagens em um grupo do telegram. O pipeline foi implementado utilizado serviços da Amzon Web Services (AWS).\n",
        "\n",
        "\n",
        "* **Ferramentas utilizadas**\n",
        "\n",
        " ![Python](https://img.shields.io/badge/Python-black?style=flat-square&logo=python)\n",
        " ![Amazon AWS](https://img.shields.io/badge/AWS-black?style=flat-square&logo=amazon-aws)\n",
        "![SQL](https://img.shields.io/badge/-SQL-black?style=flat-square&logo=sqlite)\n",
        "![Telegram](https://img.shields.io/badge/-Telegram_Bots-blue?style=flat-square&logo=telegram)\n",
        "\n",
        "\n",
        "     * O pipeline é ilustrado na célula seguinte\n",
        "\n",
        "* **Conclusão**\n",
        "\n",
        "Utilizando o serviço do AWS Athena e queries em SQL, é possível extrair insights acerca da mensagens enviadas diariamente via Telegram."
      ],
      "metadata": {
        "id": "9KpetILs8ysv"
      }
    },
    {
      "cell_type": "markdown",
      "source": [
        "![Pipeline-aws-pipegram.png](data:image/png;base64,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)"
      ],
      "metadata": {
        "id": "W-4sv4QbYIWQ"
      }
    }
  ]
}